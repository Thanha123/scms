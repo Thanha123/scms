{
 "cells": [
  {
   "cell_type": "code",
   "execution_count": null,
   "metadata": {},
   "outputs": [],
   "source": []
  },
  {
   "cell_type": "code",
   "execution_count": 5,
   "metadata": {},
   "outputs": [
    {
     "name": "stdout",
     "output_type": "stream",
     "text": [
      "3.321928094887362\n"
     ]
    }
   ],
   "source": [
    "print(s)"
   ]
  },
  {
   "cell_type": "code",
   "execution_count": 4,
   "metadata": {},
   "outputs": [],
   "source": [
    "s=np.log2(10)"
   ]
  },
  {
   "cell_type": "code",
   "execution_count": 3,
   "metadata": {},
   "outputs": [],
   "source": [
    "import numpy as np"
   ]
  },
  {
   "cell_type": "code",
   "execution_count": 2,
   "metadata": {},
   "outputs": [
    {
     "name": "stdout",
     "output_type": "stream",
     "text": [
      "Defaulting to user installation because normal site-packages is not writeable\n",
      "Collecting numpy\n",
      "  Downloading numpy-2.1.1-cp312-cp312-win_amd64.whl.metadata (59 kB)\n",
      "Downloading numpy-2.1.1-cp312-cp312-win_amd64.whl (12.6 MB)\n",
      "   ---------------------------------------- 0.0/12.6 MB ? eta -:--:--\n",
      "   ---------------------------------------- 0.0/12.6 MB ? eta -:--:--\n",
      "    --------------------------------------- 0.3/12.6 MB ? eta -:--:--\n",
      "    --------------------------------------- 0.3/12.6 MB ? eta -:--:--\n",
      "    --------------------------------------- 0.3/12.6 MB ? eta -:--:--\n",
      "   - -------------------------------------- 0.5/12.6 MB 441.3 kB/s eta 0:00:28\n",
      "   --- ------------------------------------ 1.0/12.6 MB 825.2 kB/s eta 0:00:14\n",
      "   --- ------------------------------------ 1.0/12.6 MB 825.2 kB/s eta 0:00:14\n",
      "   ----- ---------------------------------- 1.6/12.6 MB 975.2 kB/s eta 0:00:12\n",
      "   ----- ---------------------------------- 1.8/12.6 MB 1.0 MB/s eta 0:00:11\n",
      "   ----- ---------------------------------- 1.8/12.6 MB 1.0 MB/s eta 0:00:11\n",
      "   ----- ---------------------------------- 1.8/12.6 MB 1.0 MB/s eta 0:00:11\n",
      "   ------ --------------------------------- 2.1/12.6 MB 903.5 kB/s eta 0:00:12\n",
      "   ------ --------------------------------- 2.1/12.6 MB 903.5 kB/s eta 0:00:12\n",
      "   -------- ------------------------------- 2.6/12.6 MB 920.5 kB/s eta 0:00:11\n",
      "   --------- ------------------------------ 2.9/12.6 MB 981.1 kB/s eta 0:00:10\n",
      "   ---------- ----------------------------- 3.4/12.6 MB 1.0 MB/s eta 0:00:09\n",
      "   ------------ --------------------------- 3.9/12.6 MB 1.1 MB/s eta 0:00:08\n",
      "   --------------- ------------------------ 4.7/12.6 MB 1.3 MB/s eta 0:00:07\n",
      "   ---------------- ----------------------- 5.2/12.6 MB 1.3 MB/s eta 0:00:06\n",
      "   ------------------ --------------------- 5.8/12.6 MB 1.4 MB/s eta 0:00:05\n",
      "   -------------------- ------------------- 6.6/12.6 MB 1.5 MB/s eta 0:00:04\n",
      "   ---------------------- ----------------- 7.1/12.6 MB 1.6 MB/s eta 0:00:04\n",
      "   ------------------------ --------------- 7.6/12.6 MB 1.6 MB/s eta 0:00:04\n",
      "   ------------------------- -------------- 7.9/12.6 MB 1.6 MB/s eta 0:00:03\n",
      "   -------------------------- ------------- 8.4/12.6 MB 1.7 MB/s eta 0:00:03\n",
      "   ---------------------------- ----------- 8.9/12.6 MB 1.7 MB/s eta 0:00:03\n",
      "   ----------------------------- ---------- 9.2/12.6 MB 1.7 MB/s eta 0:00:02\n",
      "   ------------------------------ --------- 9.7/12.6 MB 1.7 MB/s eta 0:00:02\n",
      "   -------------------------------- ------- 10.2/12.6 MB 1.7 MB/s eta 0:00:02\n",
      "   ---------------------------------- ----- 10.7/12.6 MB 1.7 MB/s eta 0:00:02\n",
      "   ----------------------------------- ---- 11.3/12.6 MB 1.8 MB/s eta 0:00:01\n",
      "   -------------------------------------- - 12.1/12.6 MB 1.8 MB/s eta 0:00:01\n",
      "   ---------------------------------------- 12.6/12.6 MB 1.8 MB/s eta 0:00:00\n",
      "Installing collected packages: numpy\n",
      "Successfully installed numpy-2.1.1\n",
      "Note: you may need to restart the kernel to use updated packages.\n"
     ]
    }
   ],
   "source": [
    "pip install numpy"
   ]
  },
  {
   "cell_type": "code",
   "execution_count": 1,
   "metadata": {},
   "outputs": [
    {
     "ename": "ModuleNotFoundError",
     "evalue": "No module named 'numpy'",
     "output_type": "error",
     "traceback": [
      "\u001b[1;31m---------------------------------------------------------------------------\u001b[0m",
      "\u001b[1;31mModuleNotFoundError\u001b[0m                       Traceback (most recent call last)",
      "Cell \u001b[1;32mIn[1], line 1\u001b[0m\n\u001b[1;32m----> 1\u001b[0m \u001b[38;5;28;01mimport\u001b[39;00m \u001b[38;5;21;01mnumpy\u001b[39;00m \u001b[38;5;28;01mas\u001b[39;00m \u001b[38;5;21;01mnp\u001b[39;00m\n",
      "\u001b[1;31mModuleNotFoundError\u001b[0m: No module named 'numpy'"
     ]
    }
   ],
   "source": [
    "import numpy as np\n"
   ]
  },
  {
   "cell_type": "code",
   "execution_count": null,
   "metadata": {},
   "outputs": [],
   "source": [
    "\"hello\""
   ]
  }
 ],
 "metadata": {
  "kernelspec": {
   "display_name": "Python 3",
   "language": "python",
   "name": "python3"
  },
  "language_info": {
   "codemirror_mode": {
    "name": "ipython",
    "version": 3
   },
   "file_extension": ".py",
   "mimetype": "text/x-python",
   "name": "python",
   "nbconvert_exporter": "python",
   "pygments_lexer": "ipython3",
   "version": "3.12.7"
  }
 },
 "nbformat": 4,
 "nbformat_minor": 2
}
